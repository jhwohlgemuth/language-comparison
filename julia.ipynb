{
 "cells": [
  {
   "cell_type": "markdown",
   "id": "c4b7c686",
   "metadata": {},
   "source": [
    "Basics\n",
    "------\n",
    "\n",
    "- [x] [String interpolation](https://docs.julialang.org/en/v1/manual/strings/#string-interpolation)\n",
    "- [x] [Substrings](https://docs.julialang.org/en/v1/manual/strings/#String-Basics)\n",
    "- [x] [Number range](https://docs.julialang.org/en/v1/base/math/#Base.::)\n",
    "- [x] [Regular expressions](https://docs.julialang.org/en/v1/manual/strings/#man-regex-literals)\n",
    "- [x] [Lambda functions](https://docs.julialang.org/en/v1/manual/functions/)\n",
    "- [x] [Higher functions (e.g. `reduce`)]()"
   ]
  },
  {
   "cell_type": "code",
   "execution_count": 65,
   "id": "fdef758d",
   "metadata": {},
   "outputs": [
    {
     "data": {
      "text/plain": [
       "\"Gauss added the first 100 numbers and got 5050\""
      ]
     },
     "execution_count": 65,
     "metadata": {},
     "output_type": "execute_result"
    }
   ],
   "source": [
    "#=\n",
    "Intentionally Left Blank\n",
    "=#\n",
    "re = r\"\\d{3}\"\n",
    "start = 1\n",
    "stop = 100\n",
    "⊕(a, b) = a + b\n",
    "numbers = 1:100\n",
    "result = numbers |> arr -> reduce(⊕, arr)\n",
    "\n",
    "message = \"The sum of the integers, $start to $stop, is $result\"\n",
    "count_ = match(re, message).match # \"count\" is reserved\n",
    "answer = message[end - 3:end]\n",
    "\n",
    "\"Gauss added the first $count_ numbers and got $answer\"\n"
   ]
  },
  {
   "cell_type": "markdown",
   "id": "67c58e11",
   "metadata": {},
   "source": [
    "### Vectorized \"dot\" Operators ([docs](https://docs.julialang.org/en/v1/manual/mathematical-operations/#man-dot-operators))\n",
    "> For every binary operation like ^, there is a corresponding \"dot\" operation .^ that is automatically defined to perform ^ element-by-element on arrays."
   ]
  },
  {
   "cell_type": "code",
   "execution_count": 54,
   "id": "839e13e5",
   "metadata": {},
   "outputs": [
    {
     "data": {
      "text/plain": [
       "3-element Vector{Int64}:\n",
       " 10\n",
       " 20\n",
       " 30"
      ]
     },
     "execution_count": 54,
     "metadata": {},
     "output_type": "execute_result"
    }
   ],
   "source": [
    "[1, 2, 3] .* 10"
   ]
  },
  {
   "cell_type": "code",
   "execution_count": 59,
   "id": "dfe4925a",
   "metadata": {},
   "outputs": [
    {
     "data": {
      "text/plain": [
       "3-element Vector{Int64}:\n",
       " 11\n",
       " 12\n",
       " 13"
      ]
     },
     "execution_count": 59,
     "metadata": {},
     "output_type": "execute_result"
    }
   ],
   "source": [
    "[1, 2, 3] .⊕ 10"
   ]
  },
  {
   "cell_type": "markdown",
   "id": "bd9f44aa",
   "metadata": {},
   "source": [
    "### Every Function is an Operator ([ref](https://stackoverflow.com/a/60321302))\n",
    "```\n",
    "* / ÷ % & ⋅ ∘ × ∩ ∧ ⊗ ⊘ ⊙ ⊚ ⊛ ⊠ ⊡ ⊓ ∗ ∙ ∤ ⅋ ≀ ⊼ ⋄ ⋆ ⋇\n",
    "⋉ ⋊ ⋋ ⋌ ⋏ ⋒ ⟑ ⦸ ⦼ ⦾ ⦿ ⧶ ⧷ ⨇ ⨰ ⨱ ⨲ ⨳ ⨴ ⨵ ⨶ ⨷ ⨸ ⨻\n",
    "⨼ ⨽ ⩀ ⩃ ⩄ ⩋ ⩍ ⩎ ⩑ ⩓ ⩕ ⩘ ⩚ ⩜ ⩞ ⩟ ⩠ ⫛ ⊍ ▷ ⨝ ⟕ ⟖ ⟗\n",
    "```"
   ]
  },
  {
   "cell_type": "code",
   "execution_count": null,
   "id": "931e3068",
   "metadata": {},
   "outputs": [],
   "source": []
  }
 ],
 "metadata": {
  "kernelspec": {
   "display_name": "Julia 1.7.2",
   "language": "julia",
   "name": "julia-1.7"
  },
  "language_info": {
   "file_extension": ".jl",
   "mimetype": "application/julia",
   "name": "julia",
   "version": "1.7.2"
  }
 },
 "nbformat": 4,
 "nbformat_minor": 5
}
