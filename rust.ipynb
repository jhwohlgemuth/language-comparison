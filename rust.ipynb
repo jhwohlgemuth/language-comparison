{
 "cells": [
  {
   "cell_type": "markdown",
   "id": "69fd13ce",
   "metadata": {},
   "source": [
    "Basics\n",
    "------\n",
    "\n",
    "- [x] [String interpolation](https://doc.rust-lang.org/std/macro.format.html)\n",
    "- [x] [Number range]()\n",
    "- [x] [Lambda functions](https://doc.rust-lang.org/std/primitive.fn.html)\n",
    "- [ ] [Regular expressions](https://docs.rs/regex/latest/regex/) // external library required\n",
    "- [x] [Substrings]()"
   ]
  },
  {
   "cell_type": "code",
   "execution_count": 142,
   "id": "d5268898",
   "metadata": {},
   "outputs": [
    {
     "name": "stdout",
     "output_type": "stream",
     "text": [
      "Gauss added the first 100 numbers and got 5050\n"
     ]
    },
    {
     "data": {
      "text/plain": [
       "()"
      ]
     },
     "execution_count": 142,
     "metadata": {},
     "output_type": "execute_result"
    }
   ],
   "source": [
    ":dep regex\n",
    "use regex::Regex\n",
    "\n",
    "let re = Regex::new(r\"\\d{3}\").unwrap();\n",
    "let start = 1;\n",
    "let stop = 100;\n",
    "fn add(a: usize, b: usize) -> usize { a + b }\n",
    "let numbers = (start..).take(stop); //lazy\n",
    "let result = numbers.reduce(add).unwrap();\n",
    "{\n",
    "    let message = format!(\"The sum of the integers, {} to {}, is {}\", start, stop, result);\n",
    "    let count =  re.captures(&message).unwrap().get(0).map_or(\"\", |m| m.as_str());\n",
    "    let answer = &message[message.len() - 4..];\n",
    "    \n",
    "    println!(\"Gauss added the first {} numbers and got {}\", count, answer);\n",
    "}"
   ]
  },
  {
   "cell_type": "code",
   "execution_count": null,
   "id": "105b18c0",
   "metadata": {},
   "outputs": [],
   "source": []
  }
 ],
 "metadata": {
  "kernelspec": {
   "display_name": "Rust",
   "language": "rust",
   "name": "rust"
  },
  "language_info": {
   "codemirror_mode": "rust",
   "file_extension": ".rs",
   "mimetype": "text/rust",
   "name": "Rust",
   "pygment_lexer": "rust",
   "version": ""
  }
 },
 "nbformat": 4,
 "nbformat_minor": 5
}
