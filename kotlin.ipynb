{
 "cells": [
  {
   "cell_type": "markdown",
   "id": "569d8818",
   "metadata": {},
   "source": [
    "Basics\n",
    "------\n",
    "\n",
    "- [x] [String interpolation](https://kotlinlang.org/docs/basic-syntax.html#string-templates)\n",
    "- [x] [Number range](https://kotlinlang.org/docs/basic-syntax.html#ranges)\n",
    "- [x] [Lambda functions](https://kotlinlang.org/docs/lambdas.html#lambda-expression-syntax)\n",
    "- [x] [Regular expressions](https://kotlinlang.org/api/latest/jvm/stdlib/kotlin.text/-regex/find.html)\n",
    "- [x] [Substrings](https://kotlinlang.org/docs/java-to-kotlin-idioms-strings.html#take-a-substring)"
   ]
  },
  {
   "cell_type": "code",
   "execution_count": 5,
   "id": "23fd0eec",
   "metadata": {},
   "outputs": [
    {
     "data": {
      "text/plain": [
       "Gauss added the first 100 numbers and got 5050"
      ]
     },
     "execution_count": 5,
     "metadata": {},
     "output_type": "execute_result"
    }
   ],
   "source": [
    "/*\n",
    "Intentionally Left Blank\n",
    "*/\n",
    "val re = \"\\\\d{3}\".toRegex()\n",
    "val start = 1\n",
    "val stop = 100\n",
    "val add = { a: Int, b: Int -> a + b }\n",
    "val numbers = start..stop\n",
    "val result = numbers.reduce(add)\n",
    "\n",
    "val message = \"The sum of the integers, $start to $stop, is $result\"\n",
    "val count = re.find(message)?.value ?: \"###\"\n",
    "val answer = message.substring(message.length - 4)\n",
    "\n",
    "\"Gauss added the first $count numbers and got $answer\""
   ]
  },
  {
   "cell_type": "markdown",
   "id": "287efe3d",
   "metadata": {},
   "source": [
    "### Infix Notation Functions ([docs](https://kotlinlang.org/docs/functions.html#infix-notation))"
   ]
  },
  {
   "cell_type": "code",
   "execution_count": 10,
   "id": "8ae0ebe2",
   "metadata": {},
   "outputs": [
    {
     "data": {
      "text/plain": [
       "4"
      ]
     },
     "execution_count": 10,
     "metadata": {},
     "output_type": "execute_result"
    }
   ],
   "source": [
    "infix fun Int.plus(that: Int) = this + that\n",
    "\n",
    "2 plus 2"
   ]
  },
  {
   "cell_type": "code",
   "execution_count": 11,
   "id": "3092b889",
   "metadata": {},
   "outputs": [
    {
     "name": "stdout",
     "output_type": "stream",
     "text": [
      "Jason says 42\n"
     ]
    }
   ],
   "source": [
    "infix fun Any.say(that: Any) = println(\"$this says $that\")\n",
    "\n",
    "\"Jason\" say 42"
   ]
  },
  {
   "cell_type": "markdown",
   "id": "4499e0ec",
   "metadata": {},
   "source": [
    "### Extension Functions ([docs](https://kotlin-quick-reference.com/122-R-extension-functions.html))"
   ]
  },
  {
   "cell_type": "code",
   "execution_count": 8,
   "id": "3f3541b3",
   "metadata": {},
   "outputs": [
    {
     "data": {
      "text/plain": [
       "true"
      ]
     },
     "execution_count": 8,
     "metadata": {},
     "output_type": "execute_result"
    }
   ],
   "source": [
    "fun Int.isBetween(a: Int, b: Int): Boolean = if (this >= a && this <= b) true else false\n",
    "\n",
    "42.isBetween(40, 43)"
   ]
  },
  {
   "cell_type": "code",
   "execution_count": 13,
   "id": "6b6172d7",
   "metadata": {},
   "outputs": [
    {
     "name": "stdout",
     "output_type": "stream",
     "text": [
      "I am 42\n",
      "I am Jason\n",
      "I am true\n"
     ]
    }
   ],
   "source": [
    "fun Any.printMe(): Unit = println(\"I am ${this}\")\n",
    "\n",
    "42.printMe()\n",
    "\"Jason\".printMe()\n",
    "true.printMe()"
   ]
  }
 ],
 "metadata": {
  "kernelspec": {
   "display_name": "Kotlin",
   "language": "kotlin",
   "name": "kotlin"
  },
  "language_info": {
   "codemirror_mode": "text/x-kotlin",
   "file_extension": ".kt",
   "mimetype": "text/x-kotlin",
   "name": "kotlin",
   "nbconvert_exporter": "",
   "pygments_lexer": "kotlin",
   "version": "1.7.0-dev-1825"
  }
 },
 "nbformat": 4,
 "nbformat_minor": 5
}
