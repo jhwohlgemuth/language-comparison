{
 "cells": [
  {
   "cell_type": "markdown",
   "id": "c9560b4b",
   "metadata": {},
   "source": [
    "Basics\n",
    "------\n",
    "\n",
    "- [x] [String interpolation](https://developer.mozilla.org/en-US/docs/Web/JavaScript/Reference/Template_literals#expression_interpolation)\n",
    "- [x] [Substrings](https://developer.mozilla.org/en-US/docs/Web/JavaScript/Reference/Global_Objects/String/substring)\n",
    "- [x] [Number range](https://developer.mozilla.org/en-US/docs/Web/JavaScript/Reference/Global_Objects/Array/Array#array_constructor_with_a_single_parameter) // when paired with [spread syntax](https://developer.mozilla.org/en-US/docs/Web/JavaScript/Reference/Operators/Spread_syntax) and [`keys` method](https://developer.mozilla.org/en-US/docs/Web/JavaScript/Reference/Global_Objects/Array/keys)\n",
    "- [x] [Regular expressions](https://developer.mozilla.org/en-US/docs/Web/JavaScript/Guide/Regular_Expressions)\n",
    "- [x] [Lambda functions](https://developer.mozilla.org/en-US/docs/Web/JavaScript/Reference/Functions/Arrow_functions)\n",
    "- [x] [Higher functions (e.g. `reduce`)](https://developer.mozilla.org/en-US/docs/Web/JavaScript/Reference/Global_Objects/Array/Reduce)\n",
    "\n",
    "> **NOTE**: Need to use `var` in notebook to support re-running code"
   ]
  },
  {
   "cell_type": "code",
   "execution_count": 14,
   "id": "904a56fc",
   "metadata": {},
   "outputs": [
    {
     "data": {
      "text/plain": [
       "'Gauss added the first 100 numbers and got 5050'"
      ]
     },
     "execution_count": 14,
     "metadata": {},
     "output_type": "execute_result"
    }
   ],
   "source": [
    "'use strict';\n",
    "\n",
    "\n",
    "var re = /[0-9]{3}/;\n",
    "var start = 1;\n",
    "var stop = 100;\n",
    "var add = (a, b) => a + b;\n",
    "var numbers = [...Array(101).keys()];\n",
    "var result = numbers.reduce(add);\n",
    "\n",
    "var message = `The sum of the integers, ${start} to ${stop}, is ${result}`;\n",
    "var count = message.match(re);\n",
    "var answer = message.substring(message.length - 4);\n",
    "\n",
    "`Gauss added the first ${count} numbers and got ${answer}`\n"
   ]
  }
 ],
 "metadata": {
  "kernelspec": {
   "display_name": "JavaScript (Node.js)",
   "language": "javascript",
   "name": "javascript"
  },
  "language_info": {
   "file_extension": ".js",
   "mimetype": "application/javascript",
   "name": "javascript",
   "version": "17.6.0"
  }
 },
 "nbformat": 4,
 "nbformat_minor": 5
}
