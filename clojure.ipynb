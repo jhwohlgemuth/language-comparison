{
 "cells": [
  {
   "cell_type": "markdown",
   "id": "9a914bad",
   "metadata": {},
   "source": [
    "Basics\n",
    "------\n",
    "\n",
    "- [x] [String interpolation](https://clojuredocs.org/clojure.core/str)\n",
    "- [x] [Number range](https://clojuredocs.org/clojure.core/range)\n",
    "- [x] [Lambda functions](https://clojuredocs.org/clojure.core/defn)\n",
    "- [x] [Regular expressions](https://clojuredocs.org/clojure.core/re-pattern)\n",
    "- [x] [Substrings](https://clojuredocs.org/clojure.core/subs)"
   ]
  },
  {
   "cell_type": "code",
   "execution_count": 5,
   "id": "de56ee93",
   "metadata": {},
   "outputs": [
    {
     "data": {
      "text/plain": [
       "\"Gauss added the first 100 numbers and got 5050\""
      ]
     },
     "execution_count": 5,
     "metadata": {},
     "output_type": "execute_result"
    }
   ],
   "source": [
    "(comment\n",
    "Intentionally Left Blank\n",
    ")\n",
    "(def re (re-pattern \"\\\\d{3}\"))\n",
    "(def start 1)\n",
    "(def stop 100)\n",
    "(defn add [a b] (+ a b))\n",
    "(def numbers (range start (+ stop 1)))\n",
    "(def result (reduce add numbers))\n",
    "\n",
    "(def message (str \"The sum of the integers, \" start \" to \" stop \" is \" result))\n",
    "(def count_ (re-find re message));; \"count\" is reserved\n",
    "(def answer (let [length (count message)] (subs message (- length 4) length)))\n",
    "\n",
    "(str \"Gauss added the first \" count_ \" numbers and got \" answer)\n"
   ]
  },
  {
   "cell_type": "markdown",
   "id": "971d4886",
   "metadata": {},
   "source": [
    "### Anonymous Function Macro ([docs](https://clojure.org/guides/learn/functions#_anonymous_function_syntax))"
   ]
  },
  {
   "cell_type": "code",
   "execution_count": 1,
   "id": "6da58c4d",
   "metadata": {},
   "outputs": [
    {
     "data": {
      "text/plain": [
       "5050"
      ]
     },
     "execution_count": 1,
     "metadata": {},
     "output_type": "execute_result"
    }
   ],
   "source": [
    "(def numbers (take 101 (range)))\n",
    "(reduce #(+ %1 %2) numbers)"
   ]
  }
 ],
 "metadata": {
  "kernelspec": {
   "display_name": "Clojure (clojupyter-v0.2.2)",
   "language": "clojure",
   "name": "clojupyter"
  },
  "language_info": {
   "file_extension": ".clj",
   "mimetype": "text/x-clojure",
   "name": "clojure",
   "version": "1.10.0"
  }
 },
 "nbformat": 4,
 "nbformat_minor": 5
}
