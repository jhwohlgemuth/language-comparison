{
 "cells": [
  {
   "cell_type": "markdown",
   "id": "02ade544",
   "metadata": {},
   "source": [
    "Basics\n",
    "------\n",
    "\n",
    "- [x] [String interpolation](https://docs.microsoft.com/en-us/dotnet/csharp/language-reference/tokens/interpolated)\n",
    "- [x] [Substrings](https://docs.microsoft.com/en-us/dotnet/api/system.string.substring?view=net-6.0)\n",
    "- [x] [Number range](https://docs.microsoft.com/en-us/dotnet/api/system.linq.enumerable.range?view=net-6.0#system-linq-enumerable-range(system-int32-system-int32))\n",
    "- [x] [Regular expressions](https://docs.microsoft.com/en-us/dotnet/api/system.text.regularexpressions.regex?view=net-6.0)\n",
    "- [x] [Lambda functions](https://docs.microsoft.com/en-us/dotnet/csharp/language-reference/operators/lambda-expressions)\n",
    "- [x] [Higher functions (e.g. `reduce`)](https://docs.microsoft.com/en-us/dotnet/api/system.linq.enumerable.aggregate?view=net-6.0#system-linq-enumerable-aggregate-3(system-collections-generic-ienumerable((-0))-1-system-func((-1-0-1))-system-func((-1-2)))) // `reduce` is `Aggregate`"
   ]
  },
  {
   "cell_type": "code",
   "execution_count": 29,
   "id": "97989a19",
   "metadata": {
    "scrolled": true
   },
   "outputs": [
    {
     "data": {
      "text/plain": [
       "Gauss added the first 100 numbers and got 5050"
      ]
     },
     "execution_count": 29,
     "metadata": {},
     "output_type": "execute_result"
    }
   ],
   "source": [
    "using System;\n",
    "using System.Text.RegularExpressions;\n",
    "\n",
    "var re = new Regex(@\"[0-9]{3}\");\n",
    "var start = 1;\n",
    "var stop = 100;\n",
    "Func<int, int, int> add = (x, y) => x + y;\n",
    "var numbers = Enumerable.Range(1, 100);\n",
    "var result = numbers.Aggregate(add);\n",
    "\n",
    "var message = $\"The sum of the integers, {start} to {stop}, is {result}\";\n",
    "var count = re.Match(message).Value;\n",
    "var answer = message.Substring((message.Length - 4));\n",
    "\n",
    "$\"Gauss added the first {count} numbers and got {answer}\"\n"
   ]
  }
 ],
 "metadata": {
  "kernelspec": {
   "display_name": ".NET (C#)",
   "language": "C#",
   "name": ".net-csharp"
  },
  "language_info": {
   "file_extension": ".cs",
   "mimetype": "text/x-csharp",
   "name": "C#",
   "pygments_lexer": "csharp",
   "version": "9.0"
  }
 },
 "nbformat": 4,
 "nbformat_minor": 5
}
