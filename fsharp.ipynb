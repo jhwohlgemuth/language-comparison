{
 "cells": [
  {
   "cell_type": "markdown",
   "id": "2c3b2e0c",
   "metadata": {},
   "source": [
    "Basics\n",
    "------\n",
    "\n",
    "- [x] [String interpolation](https://docs.microsoft.com/en-us/dotnet/fsharp/language-reference/interpolated-strings)\n",
    "- [x] [Number range](https://docs.microsoft.com/en-us/dotnet/fsharp/language-reference/sequences#obtaining-subsequences)\n",
    "- [x] [Lambda functions](https://docs.microsoft.com/en-us/dotnet/fsharp/language-reference/functions/lambda-expressions-the-fun-keyword)\n",
    "- [x] [Regular expressions](https://docs.microsoft.com/en-us/dotnet/api/system.text.regularexpressions?redirectedfrom=MSDN&view=net-6.0)\n",
    "- [x] [Substrings](https://docs.microsoft.com/en-us/dotnet/fsharp/language-reference/strings#string-indexing-and-slicing)"
   ]
  },
  {
   "cell_type": "code",
   "execution_count": 1,
   "id": "4e4b1ff4",
   "metadata": {},
   "outputs": [
    {
     "data": {
      "text/plain": [
       "Gauss added the first 100 numbers and got 5050"
      ]
     },
     "execution_count": 1,
     "metadata": {},
     "output_type": "execute_result"
    }
   ],
   "source": [
    "open System.Text.RegularExpressions\n",
    "\n",
    "\n",
    "let re = Regex \"\\d{3}\"\n",
    "let start = 1\n",
    "let stop = 100\n",
    "let add a b = a + b\n",
    "let numbers = seq { 1..100 }\n",
    "let result = numbers |> Seq.reduce add\n",
    "\n",
    "let message = $\"The sum of the integers, {start} to {stop}, is {result}\"\n",
    "let count = re.Match(message).Value\n",
    "let answer = message[message.Length - 4..]\n",
    "\n",
    "$\"Gauss added the first {count} numbers and got {answer}\"\n"
   ]
  },
  {
   "cell_type": "markdown",
   "id": "3029b830",
   "metadata": {},
   "source": [
    "### Units of Measure ([ref](https://docs.microsoft.com/en-us/dotnet/fsharp/language-reference/units-of-measure))"
   ]
  },
  {
   "cell_type": "code",
   "execution_count": 17,
   "id": "e211e938",
   "metadata": {},
   "outputs": [
    {
     "data": {
      "text/html": [
       "<div class=\"dni-plaintext\">113</div>"
      ]
     },
     "execution_count": 17,
     "metadata": {},
     "output_type": "execute_result"
    }
   ],
   "source": [
    "[<Measure>] type C // Celsius/Centigrade\n",
    "[<Measure>] type F // Fahrenheit\n",
    "\n",
    "let convertCtoF (temp : float<C>) = 9.0<F> / 5.0<C> * temp + 32.0<F>\n",
    "let convertFtoC (temp : float<F>) = 5.0<C> / 9.0<F> * (temp - 32.0<F>)\n",
    "\n",
    "convertCtoF 45.0<C>"
   ]
  }
 ],
 "metadata": {
  "kernelspec": {
   "display_name": ".NET (F#)",
   "language": "F#",
   "name": ".net-fsharp"
  },
  "language_info": {
   "file_extension": ".fs",
   "mimetype": "text/x-fsharp",
   "name": "F#",
   "pygments_lexer": "fsharp",
   "version": "5.0"
  }
 },
 "nbformat": 4,
 "nbformat_minor": 5
}
