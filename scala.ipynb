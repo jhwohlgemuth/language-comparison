{
 "cells": [
  {
   "cell_type": "markdown",
   "id": "812e11ee",
   "metadata": {},
   "source": [
    "Basics\n",
    "------\n",
    "\n",
    "- [x] [String interpolation](https://docs.scala-lang.org/overviews/core/string-interpolation.html)\n",
    "- [x] [Number range](https://docs.scala-lang.org/overviews/collections/concrete-immutable-collection-classes.html#ranges)\n",
    "- [x] [Lambda functions](https://docs.scala-lang.org/scala3/book/fun-function-variables.html)\n",
    "- [x] [Regular expressions](https://www.scala-lang.org/api/current/scala/util/matching/Regex.html)\n",
    "- [x] [Substrings](https://docs.scala-lang.org/overviews/collections-2.13/strings.html)"
   ]
  },
  {
   "cell_type": "code",
   "execution_count": 20,
   "id": "d61d6a2b",
   "metadata": {},
   "outputs": [
    {
     "name": "stdout",
     "output_type": "stream",
     "text": [
      "Gauss added the first ### numbers and got 5050\n"
     ]
    },
    {
     "data": {
      "text/plain": [
       "\u001b[36mre\u001b[39m: \u001b[32mRegex\u001b[39m = \\d{3}\n",
       "\u001b[36mstart\u001b[39m: \u001b[32mInt\u001b[39m = \u001b[32m1\u001b[39m\n",
       "\u001b[36mstop\u001b[39m: \u001b[32mInt\u001b[39m = \u001b[32m100\u001b[39m\n",
       "\u001b[36madd\u001b[39m: (\u001b[32mInt\u001b[39m, \u001b[32mInt\u001b[39m) => \u001b[32mInt\u001b[39m = ammonite.$sess.cmd19$Helper$$Lambda$2823/0x0000000840c0e840@74fb201d\n",
       "\u001b[36mnumbers\u001b[39m: \u001b[32mRange\u001b[39m.\u001b[32mInclusive\u001b[39m = \u001b[33mRange\u001b[39m(\n",
       "  \u001b[32m1\u001b[39m,\n",
       "  \u001b[32m2\u001b[39m,\n",
       "  \u001b[32m3\u001b[39m,\n",
       "  \u001b[32m4\u001b[39m,\n",
       "  \u001b[32m5\u001b[39m,\n",
       "  \u001b[32m6\u001b[39m,\n",
       "  \u001b[32m7\u001b[39m,\n",
       "  \u001b[32m8\u001b[39m,\n",
       "  \u001b[32m9\u001b[39m,\n",
       "  \u001b[32m10\u001b[39m,\n",
       "  \u001b[32m11\u001b[39m,\n",
       "  \u001b[32m12\u001b[39m,\n",
       "  \u001b[32m13\u001b[39m,\n",
       "  \u001b[32m14\u001b[39m,\n",
       "  \u001b[32m15\u001b[39m,\n",
       "  \u001b[32m16\u001b[39m,\n",
       "  \u001b[32m17\u001b[39m,\n",
       "  \u001b[32m18\u001b[39m,\n",
       "  \u001b[32m19\u001b[39m,\n",
       "  \u001b[32m20\u001b[39m,\n",
       "  \u001b[32m21\u001b[39m,\n",
       "  \u001b[32m22\u001b[39m,\n",
       "  \u001b[32m23\u001b[39m,\n",
       "  \u001b[32m24\u001b[39m,\n",
       "  \u001b[32m25\u001b[39m,\n",
       "  \u001b[32m26\u001b[39m,\n",
       "  \u001b[32m27\u001b[39m,\n",
       "  \u001b[32m28\u001b[39m,\n",
       "  \u001b[32m29\u001b[39m,\n",
       "  \u001b[32m30\u001b[39m,\n",
       "  \u001b[32m31\u001b[39m,\n",
       "  \u001b[32m32\u001b[39m,\n",
       "  \u001b[32m33\u001b[39m,\n",
       "  \u001b[32m34\u001b[39m,\n",
       "  \u001b[32m35\u001b[39m,\n",
       "  \u001b[32m36\u001b[39m,\n",
       "  \u001b[32m37\u001b[39m,\n",
       "  \u001b[32m38\u001b[39m,\n",
       "...\n",
       "\u001b[36mresult\u001b[39m: \u001b[32mInt\u001b[39m = \u001b[32m5050\u001b[39m\n",
       "\u001b[36mmessage\u001b[39m: \u001b[32mString\u001b[39m = \u001b[32m\"The sum of the integers, 1 to 100, is 5050\"\u001b[39m\n",
       "\u001b[36mcount\u001b[39m: \u001b[32mObject\u001b[39m = \u001b[32m\"###\"\u001b[39m\n",
       "\u001b[36manswer\u001b[39m: \u001b[32mString\u001b[39m = \u001b[32m\"5050\"\u001b[39m"
      ]
     },
     "execution_count": 20,
     "metadata": {},
     "output_type": "execute_result"
    }
   ],
   "source": [
    "{\n",
    "    Intentionally left blank \n",
    "}\n",
    "val re: Regex = \"\\\\d{3}\".r\n",
    "val start = 1\n",
    "val stop = 100\n",
    "val add = (a:Int, b: Int) => a + b\n",
    "val numbers = (1 to 100)\n",
    "val result = numbers.reduce(add)\n",
    "\n",
    "val message = s\"The sum of the integers, $start to $stop, is $result\"\n",
    "val count = re.findFirstMatchIn(message).getOrElse(\"###\")\n",
    "val answer = message.slice(message.length - 4, message.length)\n",
    "\n",
    "println(s\"Gauss added the first $count numbers and got $answer\")\n"
   ]
  },
  {
   "cell_type": "code",
   "execution_count": null,
   "id": "68d00292",
   "metadata": {},
   "outputs": [],
   "source": []
  }
 ],
 "metadata": {
  "kernelspec": {
   "display_name": "Scala",
   "language": "scala",
   "name": "scala"
  },
  "language_info": {
   "codemirror_mode": "text/x-scala",
   "file_extension": ".sc",
   "mimetype": "text/x-scala",
   "name": "scala",
   "nbconvert_exporter": "script",
   "version": "2.13.4"
  }
 },
 "nbformat": 4,
 "nbformat_minor": 5
}
