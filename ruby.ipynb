{
 "cells": [
  {
   "cell_type": "markdown",
   "id": "fdd96bdd",
   "metadata": {},
   "source": [
    "Basics\n",
    "------\n",
    "\n",
    "- [x] [String interpolation]()\n",
    "- [x] [Substrings](https://ruby-doc.org/core-3.1.1/String.html#method-i-slice)\n",
    "- [x] [Number range](https://ruby-doc.org/core-3.1.1/Range.html)\n",
    "- [x] [Regular expressions](https://ruby-doc.org/core-2.4.0/Regexp.html)\n",
    "- [x] [Lambda functions](https://ruby-doc.org/core-2.6.3/Proc.html#class-Proc-label-Lambda+and+non-lambda+semantics)\n",
    "- [x] [Higher functions (e.g. `reduce`)](https://ruby-doc.org/core-3.1.0/Enumerable.html#method-i-reduce) // ruby has `inject` instead of `reduce` (ruby also has `reduce` alias for `inject`)"
   ]
  },
  {
   "cell_type": "code",
   "execution_count": 37,
   "id": "258cd24e",
   "metadata": {},
   "outputs": [
    {
     "data": {
      "text/plain": [
       "\"Gauss added the first 100 numbers and got 5050\""
      ]
     },
     "execution_count": 37,
     "metadata": {},
     "output_type": "execute_result"
    }
   ],
   "source": [
    "=begin\n",
    "Intentionally Left Blank\n",
    "=end\n",
    "re = /[0-9]{3}/\n",
    "start = 1\n",
    "stop = 100\n",
    "add = ->(a, b) { return a + b }\n",
    "numbers = (1..100)\n",
    "result = numbers.inject(&add)\n",
    "\n",
    "message = \"The sum of the integers, #{start} to #{stop}, is #{result}\"\n",
    "count = message[re] # re.match(message)\n",
    "answer = message[-4..]\n",
    "\n",
    "\"Gauss added the first #{count} numbers and got #{answer}\"\n"
   ]
  }
 ],
 "metadata": {
  "kernelspec": {
   "display_name": "Ruby 2.7.0",
   "language": "ruby",
   "name": "ruby"
  },
  "language_info": {
   "file_extension": ".rb",
   "mimetype": "application/x-ruby",
   "name": "ruby",
   "version": "2.7.0"
  }
 },
 "nbformat": 4,
 "nbformat_minor": 5
}
