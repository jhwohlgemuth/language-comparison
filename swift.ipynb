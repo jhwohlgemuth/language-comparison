{
 "cells": [
  {
   "cell_type": "markdown",
   "id": "4406bf4b",
   "metadata": {},
   "source": [
    "Basics\n",
    "------\n",
    "\n",
    "- [x] [String interpolation](https://docs.swift.org/swift-book/LanguageGuide/StringsAndCharacters.html#ID292)\n",
    "- [x] [Number range](https://docs.swift.org/swift-book/LanguageGuide/BasicOperators.html#ID73)\n",
    "- [x] [Lambda functions](https://docs.swift.org/swift-book/LanguageGuide/Functions.html)\n",
    "- [x] [Regular expressions](https://nshipster.com/swift-regular-expressions/)\n",
    "- [x] [Substrings](https://developer.apple.com/documentation/swift/substring)"
   ]
  },
  {
   "cell_type": "code",
   "execution_count": 63,
   "id": "4679c238",
   "metadata": {},
   "outputs": [
    {
     "name": "stdout",
     "output_type": "stream",
     "text": [
      "Gauss added the first 100 numbers and got 5050\r\n"
     ]
    }
   ],
   "source": [
    "import Foundation\n",
    "\n",
    "\n",
    "let re = #\"[0-9]{3}\"# // raw string\n",
    "let start = 1\n",
    "let stop = 100\n",
    "func add(a: Int, b: Int) -> Int { return a + b }\n",
    "let numbers = 1...100\n",
    "let result = numbers.reduce(0, add)\n",
    "\n",
    "let message = \"The sum of the integers, \\(start) to \\(stop), is \\(result)\"\n",
    "let count = message[message.range(of: re, options: .regularExpression)!]\n",
    "let answer = message.suffix(4)\n",
    "\n",
    "print(\"Gauss added the first \\(count) numbers and got \\(answer)\")\n"
   ]
  },
  {
   "cell_type": "markdown",
   "id": "e778e4d8",
   "metadata": {},
   "source": [
    "#### Substring of last four characters *without* `suffix`"
   ]
  },
  {
   "cell_type": "code",
   "execution_count": null,
   "id": "fd86c335",
   "metadata": {},
   "outputs": [],
   "source": [
    "let answer = message[message.index(message.endIndex, offsetBy: -4)...]"
   ]
  }
 ],
 "metadata": {
  "kernelspec": {
   "display_name": "Swift",
   "language": "swift",
   "name": "swift"
  },
  "language_info": {
   "file_extension": ".swift",
   "mimetype": "text/x-swift",
   "name": "swift",
   "version": ""
  }
 },
 "nbformat": 4,
 "nbformat_minor": 5
}
