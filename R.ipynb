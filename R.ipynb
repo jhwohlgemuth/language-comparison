{
 "cells": [
  {
   "cell_type": "markdown",
   "id": "4d39fc97",
   "metadata": {},
   "source": [
    "Basics\n",
    "------\n",
    "\n",
    "- [x] [String interpolation]()\n",
    "- [x] [Substrings](https://cran.r-project.org/doc/manuals/r-release/fullrefman.pdf)\n",
    "- [x] [Number range]()\n",
    "- [x] [Regular expressions]()\n",
    "- [x] [Lambda functions](https://cran.r-project.org/doc/manuals/r-release/R-intro.html#Writing-your-own-functions)\n",
    "- [x] [Higher functions (e.g. `reduce`)]()"
   ]
  },
  {
   "cell_type": "markdown",
   "id": "3a54b83e",
   "metadata": {},
   "source": [
    "***WARNING***: R docs suck ... just tons of PDFs that are incomplete and hard to search"
   ]
  },
  {
   "cell_type": "code",
   "execution_count": 1,
   "id": "d8898cec",
   "metadata": {
    "scrolled": true
   },
   "outputs": [
    {
     "data": {
      "text/html": [
       "'Gauss added the first 100 numbers and got 5050'"
      ],
      "text/latex": [
       "'Gauss added the first 100 numbers and got 5050'"
      ],
      "text/markdown": [
       "'Gauss added the first 100 numbers and got 5050'"
      ],
      "text/plain": [
       "Gauss added the first 100 numbers and got 5050"
      ]
     },
     "metadata": {},
     "output_type": "display_data"
    }
   ],
   "source": [
    "# \n",
    "# Intentionally left blank\n",
    "# \n",
    "re <- '[0-9]{3}'\n",
    "start <- 1\n",
    "stop <- 100\n",
    "add <- function(a, b) { a + b }\n",
    "numbers = 1:100\n",
    "result = Reduce(add, numbers)\n",
    "\n",
    "message <- glue::glue('The sum of the integers, {start} to {stop}, is {result}')\n",
    "count <- regmatches(message, gregexpr(re, message, perl=TRUE))[[1]][1]\n",
    "answer <- substr(message, nchar(message) - 3, nchar(message))\n",
    "\n",
    "glue::glue('Gauss added the first {count} numbers and got {answer}')\n"
   ]
  },
  {
   "cell_type": "markdown",
   "id": "4c3f3409",
   "metadata": {},
   "source": [
    "### `map` is `sapply` and `vapply` in R"
   ]
  },
  {
   "cell_type": "code",
   "execution_count": 3,
   "id": "9536d7fb",
   "metadata": {},
   "outputs": [
    {
     "data": {
      "text/html": [
       "<style>\n",
       ".list-inline {list-style: none; margin:0; padding: 0}\n",
       ".list-inline>li {display: inline-block}\n",
       ".list-inline>li:not(:last-child)::after {content: \"\\00b7\"; padding: 0 .5ex}\n",
       "</style>\n",
       "<ol class=list-inline><li>2</li><li>3</li><li>4</li><li>5</li><li>6</li><li>7</li><li>8</li><li>9</li><li>10</li><li>11</li></ol>\n"
      ],
      "text/latex": [
       "\\begin{enumerate*}\n",
       "\\item 2\n",
       "\\item 3\n",
       "\\item 4\n",
       "\\item 5\n",
       "\\item 6\n",
       "\\item 7\n",
       "\\item 8\n",
       "\\item 9\n",
       "\\item 10\n",
       "\\item 11\n",
       "\\end{enumerate*}\n"
      ],
      "text/markdown": [
       "1. 2\n",
       "2. 3\n",
       "3. 4\n",
       "4. 5\n",
       "5. 6\n",
       "6. 7\n",
       "7. 8\n",
       "8. 9\n",
       "9. 10\n",
       "10. 11\n",
       "\n",
       "\n"
      ],
      "text/plain": [
       " [1]  2  3  4  5  6  7  8  9 10 11"
      ]
     },
     "metadata": {},
     "output_type": "display_data"
    },
    {
     "data": {
      "text/html": [
       "<style>\n",
       ".list-inline {list-style: none; margin:0; padding: 0}\n",
       ".list-inline>li {display: inline-block}\n",
       ".list-inline>li:not(:last-child)::after {content: \"\\00b7\"; padding: 0 .5ex}\n",
       "</style>\n",
       "<ol class=list-inline><li>2</li><li>3</li><li>4</li><li>5</li><li>6</li><li>7</li><li>8</li><li>9</li><li>10</li><li>11</li></ol>\n"
      ],
      "text/latex": [
       "\\begin{enumerate*}\n",
       "\\item 2\n",
       "\\item 3\n",
       "\\item 4\n",
       "\\item 5\n",
       "\\item 6\n",
       "\\item 7\n",
       "\\item 8\n",
       "\\item 9\n",
       "\\item 10\n",
       "\\item 11\n",
       "\\end{enumerate*}\n"
      ],
      "text/markdown": [
       "1. 2\n",
       "2. 3\n",
       "3. 4\n",
       "4. 5\n",
       "5. 6\n",
       "6. 7\n",
       "7. 8\n",
       "8. 9\n",
       "9. 10\n",
       "10. 11\n",
       "\n",
       "\n"
      ],
      "text/plain": [
       " [1]  2  3  4  5  6  7  8  9 10 11"
      ]
     },
     "metadata": {},
     "output_type": "display_data"
    }
   ],
   "source": [
    "numbers <- 1:10\n",
    "addOne <- function(x) { x + 1 }\n",
    "\n",
    "sapply(numbers, addOne)\n",
    "vapply(numbers, addOne, numeric(1))"
   ]
  },
  {
   "cell_type": "markdown",
   "id": "665a7af0",
   "metadata": {},
   "source": [
    "### Create list of random numbers"
   ]
  },
  {
   "cell_type": "code",
   "execution_count": 4,
   "id": "554f75bc",
   "metadata": {},
   "outputs": [
    {
     "data": {
      "text/html": [
       "<style>\n",
       ".list-inline {list-style: none; margin:0; padding: 0}\n",
       ".list-inline>li {display: inline-block}\n",
       ".list-inline>li:not(:last-child)::after {content: \"\\00b7\"; padding: 0 .5ex}\n",
       "</style>\n",
       "<ol class=list-inline><li>0.749292784603313</li><li>0.83304475620389</li><li>0.616112343035638</li><li>0.281606523320079</li><li>0.311607686337084</li></ol>\n"
      ],
      "text/latex": [
       "\\begin{enumerate*}\n",
       "\\item 0.749292784603313\n",
       "\\item 0.83304475620389\n",
       "\\item 0.616112343035638\n",
       "\\item 0.281606523320079\n",
       "\\item 0.311607686337084\n",
       "\\end{enumerate*}\n"
      ],
      "text/markdown": [
       "1. 0.749292784603313\n",
       "2. 0.83304475620389\n",
       "3. 0.616112343035638\n",
       "4. 0.281606523320079\n",
       "5. 0.311607686337084\n",
       "\n",
       "\n"
      ],
      "text/plain": [
       "[1] 0.7492928 0.8330448 0.6161123 0.2816065 0.3116077"
      ]
     },
     "metadata": {},
     "output_type": "display_data"
    }
   ],
   "source": [
    "runif(5)"
   ]
  },
  {
   "cell_type": "markdown",
   "id": "8eb9856a",
   "metadata": {},
   "source": [
    "### Act on lists like pandas"
   ]
  },
  {
   "cell_type": "code",
   "execution_count": 11,
   "id": "887bf847",
   "metadata": {},
   "outputs": [],
   "source": [
    "a <- c(16, 9, 13, 5, 2, 17, 14)\n",
    "b <- c(17, 7, 5, 16, 8, 13, 14)"
   ]
  },
  {
   "cell_type": "code",
   "execution_count": 10,
   "id": "645568c8",
   "metadata": {},
   "outputs": [
    {
     "data": {
      "text/html": [
       "<style>\n",
       ".list-inline {list-style: none; margin:0; padding: 0}\n",
       ".list-inline>li {display: inline-block}\n",
       ".list-inline>li:not(:last-child)::after {content: \"\\00b7\"; padding: 0 .5ex}\n",
       "</style>\n",
       "<ol class=list-inline><li>TRUE</li><li>FALSE</li><li>FALSE</li><li>FALSE</li><li>FALSE</li><li>TRUE</li><li>FALSE</li></ol>\n"
      ],
      "text/latex": [
       "\\begin{enumerate*}\n",
       "\\item TRUE\n",
       "\\item FALSE\n",
       "\\item FALSE\n",
       "\\item FALSE\n",
       "\\item FALSE\n",
       "\\item TRUE\n",
       "\\item FALSE\n",
       "\\end{enumerate*}\n"
      ],
      "text/markdown": [
       "1. TRUE\n",
       "2. FALSE\n",
       "3. FALSE\n",
       "4. FALSE\n",
       "5. FALSE\n",
       "6. TRUE\n",
       "7. FALSE\n",
       "\n",
       "\n"
      ],
      "text/plain": [
       "[1]  TRUE FALSE FALSE FALSE FALSE  TRUE FALSE"
      ]
     },
     "metadata": {},
     "output_type": "display_data"
    }
   ],
   "source": [
    "a > 15"
   ]
  },
  {
   "cell_type": "code",
   "execution_count": 8,
   "id": "f934af00",
   "metadata": {},
   "outputs": [
    {
     "data": {
      "text/html": [
       "<style>\n",
       ".list-inline {list-style: none; margin:0; padding: 0}\n",
       ".list-inline>li {display: inline-block}\n",
       ".list-inline>li:not(:last-child)::after {content: \"\\00b7\"; padding: 0 .5ex}\n",
       "</style>\n",
       "<ol class=list-inline><li>FALSE</li><li>FALSE</li><li>TRUE</li><li>FALSE</li><li>FALSE</li><li>FALSE</li><li>FALSE</li></ol>\n"
      ],
      "text/latex": [
       "\\begin{enumerate*}\n",
       "\\item FALSE\n",
       "\\item FALSE\n",
       "\\item TRUE\n",
       "\\item FALSE\n",
       "\\item FALSE\n",
       "\\item FALSE\n",
       "\\item FALSE\n",
       "\\end{enumerate*}\n"
      ],
      "text/markdown": [
       "1. FALSE\n",
       "2. FALSE\n",
       "3. TRUE\n",
       "4. FALSE\n",
       "5. FALSE\n",
       "6. FALSE\n",
       "7. FALSE\n",
       "\n",
       "\n"
      ],
      "text/plain": [
       "[1] FALSE FALSE  TRUE FALSE FALSE FALSE FALSE"
      ]
     },
     "metadata": {},
     "output_type": "display_data"
    }
   ],
   "source": [
    "b <= 5"
   ]
  },
  {
   "cell_type": "code",
   "execution_count": 9,
   "id": "ecc63a79",
   "metadata": {},
   "outputs": [
    {
     "data": {
      "text/html": [
       "<style>\n",
       ".list-inline {list-style: none; margin:0; padding: 0}\n",
       ".list-inline>li {display: inline-block}\n",
       ".list-inline>li:not(:last-child)::after {content: \"\\00b7\"; padding: 0 .5ex}\n",
       "</style>\n",
       "<ol class=list-inline><li>FALSE</li><li>TRUE</li><li>TRUE</li><li>FALSE</li><li>FALSE</li><li>TRUE</li><li>FALSE</li></ol>\n"
      ],
      "text/latex": [
       "\\begin{enumerate*}\n",
       "\\item FALSE\n",
       "\\item TRUE\n",
       "\\item TRUE\n",
       "\\item FALSE\n",
       "\\item FALSE\n",
       "\\item TRUE\n",
       "\\item FALSE\n",
       "\\end{enumerate*}\n"
      ],
      "text/markdown": [
       "1. FALSE\n",
       "2. TRUE\n",
       "3. TRUE\n",
       "4. FALSE\n",
       "5. FALSE\n",
       "6. TRUE\n",
       "7. FALSE\n",
       "\n",
       "\n"
      ],
      "text/plain": [
       "[1] FALSE  TRUE  TRUE FALSE FALSE  TRUE FALSE"
      ]
     },
     "metadata": {},
     "output_type": "display_data"
    }
   ],
   "source": [
    "a > b"
   ]
  }
 ],
 "metadata": {
  "kernelspec": {
   "display_name": "R",
   "language": "R",
   "name": "ir"
  },
  "language_info": {
   "codemirror_mode": "r",
   "file_extension": ".r",
   "mimetype": "text/x-r-source",
   "name": "R",
   "pygments_lexer": "r",
   "version": "3.6.3"
  }
 },
 "nbformat": 4,
 "nbformat_minor": 5
}
