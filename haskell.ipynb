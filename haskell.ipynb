{
 "cells": [
  {
   "cell_type": "markdown",
   "id": "a7ef7b47",
   "metadata": {},
   "source": [
    "Basics\n",
    "------\n",
    "\n",
    "- [x] [String interpolation](https://hackage.haskell.org/package/base-4.2.0.1/docs/Text-Printf.html)\n",
    "- [ ] [Substrings]() // no built-in substring function\n",
    "- [x] [Number range]()\n",
    "- [ ] [Regular expressions](https://wiki.haskell.org/Regular_expressions) // external library required\n",
    "- [x] [Lambda functions](https://wiki.haskell.org/Lambda_abstraction)\n",
    "- [x] [Higher functions (e.g. `reduce`)]()"
   ]
  },
  {
   "cell_type": "markdown",
   "id": "d382bdac",
   "metadata": {},
   "source": [
    "#### Haskell does not have built-in substring"
   ]
  },
  {
   "cell_type": "code",
   "execution_count": 17,
   "id": "972f0770",
   "metadata": {},
   "outputs": [],
   "source": [
    "substring :: Int -> Int -> String -> String\n",
    "substring begin end = take end . drop begin"
   ]
  },
  {
   "cell_type": "markdown",
   "id": "2f41bc64",
   "metadata": {},
   "source": [
    "#### Have to install [regex-tdfa](https://hackage.haskell.org/package/regex-tdfa)\n",
    "> [reference](https://github.com/gibiansky/IHaskell#where-are-my-packages-ihaskell--stack)\n",
    "- Add `regex-tdfa-1.3.1.2` to `stack.yaml` \"extra-deps\" in IHaskell directory (`/opt/IHaskell`)\n",
    "- Run `stack install --fast`"
   ]
  },
  {
   "cell_type": "code",
   "execution_count": 23,
   "id": "93b5d933",
   "metadata": {},
   "outputs": [
    {
     "data": {
      "text/plain": [
       "Gauss added the first 100 numbers and got 5050"
      ]
     },
     "metadata": {},
     "output_type": "display_data"
    }
   ],
   "source": [
    "import Text.Printf\n",
    "import Text.Regex.TDFA\n",
    "\n",
    "re = \"[0-9]{3}\"\n",
    "start = 1\n",
    "stop = 100\n",
    "add a b = a + b\n",
    "numbers = [start..stop]\n",
    "result = foldl add 0 numbers\n",
    "\n",
    "message = printf \"The sum of the integers, %d to %d, is %d\" start stop result :: String\n",
    "count = message =~ re :: String\n",
    "answer = substring (length message - 4) (length message) message\n",
    "\n",
    "printf \"Gauss added the first %s numbers and got %s\" count answer\n"
   ]
  },
  {
   "cell_type": "markdown",
   "id": "d9fae57f",
   "metadata": {},
   "source": [
    "### List Comprehensions"
   ]
  },
  {
   "cell_type": "code",
   "execution_count": 4,
   "id": "6df469dc",
   "metadata": {},
   "outputs": [
    {
     "data": {
      "text/plain": [
       "[52,54,56,58,60,62,64,66,68,70,72,74,76,78,80,82,84,86,88,90,92,94,96,98,100]"
      ]
     },
     "metadata": {},
     "output_type": "display_data"
    },
    {
     "data": {
      "text/plain": [
       "[52,54,56,58,60,62,64,66,68,70,72,74,76,78,80,82,84,86,88,90,92,94,96,98,100]"
      ]
     },
     "metadata": {},
     "output_type": "display_data"
    }
   ],
   "source": [
    "filter even (filter (>50) [1..100])\n",
    "-- same as\n",
    "[ x | x <- [1..100], x > 50, even x ]"
   ]
  },
  {
   "cell_type": "markdown",
   "id": "5b366f97",
   "metadata": {},
   "source": [
    "### Function Application Operator, `$`"
   ]
  },
  {
   "cell_type": "code",
   "execution_count": 5,
   "id": "d703d579",
   "metadata": {},
   "outputs": [
    {
     "data": {
      "text/plain": [
       "[6,8,10]"
      ]
     },
     "metadata": {},
     "output_type": "display_data"
    },
    {
     "data": {
      "text/plain": [
       "[6,8,10]"
      ]
     },
     "metadata": {},
     "output_type": "display_data"
    }
   ],
   "source": [
    "filter even (filter (>5) [1..10])\n",
    "-- same as\n",
    "filter even $ filter (>5) [1..10]"
   ]
  },
  {
   "cell_type": "markdown",
   "id": "1ee4c2b4",
   "metadata": {},
   "source": [
    "### Function Composition Operator, `.`"
   ]
  },
  {
   "cell_type": "code",
   "execution_count": 1,
   "id": "388fe9ac",
   "metadata": {},
   "outputs": [
    {
     "data": {
      "text/plain": [
       "10"
      ]
     },
     "metadata": {},
     "output_type": "display_data"
    },
    {
     "data": {
      "text/plain": [
       "10"
      ]
     },
     "metadata": {},
     "output_type": "display_data"
    }
   ],
   "source": [
    "sum (replicate 5 2)\n",
    "-- same as \n",
    "(sum . replicate 5) 2"
   ]
  },
  {
   "cell_type": "markdown",
   "id": "e8b0e3f0",
   "metadata": {},
   "source": [
    "### Get Primes"
   ]
  },
  {
   "cell_type": "code",
   "execution_count": null,
   "id": "21d85f3f",
   "metadata": {},
   "outputs": [],
   "source": [
    "getPrimes :: Integer -> [Integer]\n",
    "getPrimes n = primes n [2..]\n",
    "\n",
    "primes :: Integer -> [Integer] -> [Integer]\n",
    "primes 0 _    = []\n",
    "primes n list = head list : primes (n-1) (sieve list)\n",
    "\n",
    "sieve :: [Integer] -> [Integer]\n",
    "sieve (x:xs) = filter (x `isntDivisorOf`) xs\n",
    "\n",
    "isntDivisorOf :: Integer -> Integer -> Bool\n",
    "isntDivisorOf x y = y `mod` x /= 0\n",
    "\n",
    "main =\n",
    "    print $ getPrimes 10000"
   ]
  }
 ],
 "metadata": {
  "kernelspec": {
   "display_name": "Haskell",
   "language": "haskell",
   "name": "haskell"
  },
  "language_info": {
   "codemirror_mode": "ihaskell",
   "file_extension": ".hs",
   "mimetype": "text/x-haskell",
   "name": "haskell",
   "pygments_lexer": "Haskell",
   "version": "8.10.7"
  }
 },
 "nbformat": 4,
 "nbformat_minor": 5
}
