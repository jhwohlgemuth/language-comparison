{
 "cells": [
  {
   "cell_type": "markdown",
   "id": "603b40ac",
   "metadata": {},
   "source": [
    "Basics\n",
    "------\n",
    "\n",
    "- [x] [String interpolation](https://peps.python.org/pep-0502/)\n",
    "- [x] [Number range](https://docs.python.org/3/library/stdtypes.html?highlight=range#range)\n",
    "- [x] [Lambda functions](https://docs.python.org/3/howto/functional.html?highlight=lambda%20expression#small-functions-and-the-lambda-expression)\n",
    "- [x] [Regular expressions](https://docs.python.org/3/howto/regex.html#regex-howto)\n",
    "- [x] [Substrings]()"
   ]
  },
  {
   "cell_type": "code",
   "execution_count": 25,
   "id": "c914ac3c",
   "metadata": {},
   "outputs": [
    {
     "data": {
      "text/plain": [
       "'Gauss added the first 100 numbers and got 5050'"
      ]
     },
     "execution_count": 25,
     "metadata": {},
     "output_type": "execute_result"
    }
   ],
   "source": [
    "import re\n",
    "from functools import reduce\n",
    "\n",
    "regex = re.compile(r\"\\d{3}\")\n",
    "start = 1\n",
    "stop = 100\n",
    "add = lambda a, b: a + b\n",
    "numbers = range(start - 1, stop + 1)\n",
    "result = reduce(add, numbers)\n",
    "\n",
    "message = f'The sum of the integers, {start} to {stop}, is {result}'\n",
    "count = regex.findall(message)[0]\n",
    "answer = message[-4:]\n",
    "\n",
    "f'Gauss added the first {count} numbers and got {answer}'\n"
   ]
  },
  {
   "cell_type": "markdown",
   "id": "145097cf",
   "metadata": {},
   "source": [
    "### Ternary `if-else`"
   ]
  },
  {
   "cell_type": "code",
   "execution_count": 3,
   "id": "8b3a07f0",
   "metadata": {},
   "outputs": [
    {
     "data": {
      "text/plain": [
       "'that'"
      ]
     },
     "execution_count": 3,
     "metadata": {},
     "output_type": "execute_result"
    }
   ],
   "source": [
    "value = \"this\" if (False) else \"that\"\n",
    "\n",
    "value # == 'that'"
   ]
  },
  {
   "cell_type": "markdown",
   "id": "c2dd471f",
   "metadata": {},
   "source": [
    "### Turtle for Learning Python & Coding"
   ]
  },
  {
   "cell_type": "code",
   "execution_count": 2,
   "id": "8773a2b4",
   "metadata": {},
   "outputs": [
    {
     "data": {
      "application/vnd.jupyter.widget-view+json": {
       "model_id": "c284500b030445f1a8db6c14ad9f1286",
       "version_major": 2,
       "version_minor": 0
      },
      "text/plain": [
       "Turtle()"
      ]
     },
     "metadata": {},
     "output_type": "display_data"
    }
   ],
   "source": [
    "from mobilechelonian import Turtle\n",
    "t = Turtle()\n",
    "t.speed(5)\n",
    "colours=[\"red\",\"blue\",\"yellow\",\"brown\",\"black\",\"purple\",\"green\"]\n",
    "\n",
    "t.penup(); t.left(90); t.forward(200);t.right(90);t.pendown()\n",
    "for i in range (0,18):\n",
    "    t.pencolor(colours[i%7])\n",
    "    t.right(20)\n",
    "    t.forward(50)\n",
    "\n",
    "t.right(180)\n",
    "t.home()"
   ]
  },
  {
   "cell_type": "code",
   "execution_count": null,
   "id": "43fe0d62",
   "metadata": {},
   "outputs": [],
   "source": []
  }
 ],
 "metadata": {
  "kernelspec": {
   "display_name": "Python 3 (ipykernel)",
   "language": "python",
   "name": "python3"
  },
  "language_info": {
   "codemirror_mode": {
    "name": "ipython",
    "version": 3
   },
   "file_extension": ".py",
   "mimetype": "text/x-python",
   "name": "python",
   "nbconvert_exporter": "python",
   "pygments_lexer": "ipython3",
   "version": "3.9.7"
  }
 },
 "nbformat": 4,
 "nbformat_minor": 5
}
