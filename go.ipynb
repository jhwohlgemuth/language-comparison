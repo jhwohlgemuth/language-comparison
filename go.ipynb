{
 "cells": [
  {
   "cell_type": "markdown",
   "id": "16ee5b19",
   "metadata": {},
   "source": [
    "Basics\n",
    "------\n",
    "\n",
    "- [x] [String interpolation](https://pkg.go.dev/fmt@go1.17.8#Sprintf)\n",
    "- [ ] [Number range]()\n",
    "- [x] [Lambda functions](https://golangdocs.com/anonymous-functions-in-golang)\n",
    "- [x] [Regular expressions](https://pkg.go.dev/regexp@go1.17.8)\n",
    "- [x] [Substrings](https://golangdocs.com/substring-in-golang)"
   ]
  },
  {
   "cell_type": "markdown",
   "id": "c61bc24a",
   "metadata": {},
   "source": [
    "#### Need to install an external module for FP ([github](https://github.com/logic-building/functional-go))"
   ]
  },
  {
   "cell_type": "code",
   "execution_count": null,
   "id": "b6b027ea",
   "metadata": {},
   "outputs": [],
   "source": [
    "!go install github.com/logic-building/functional-go/gofp@latest"
   ]
  },
  {
   "cell_type": "code",
   "execution_count": 12,
   "id": "7764de04",
   "metadata": {},
   "outputs": [],
   "source": [
    "func numberRange(min, max int) []int {\n",
    "    a := make([]int, max - min + 1)\n",
    "    for index := range a {\n",
    "        a[index] = min + index\n",
    "    }\n",
    "    return a\n",
    "}"
   ]
  },
  {
   "cell_type": "code",
   "execution_count": 13,
   "id": "586ad413",
   "metadata": {},
   "outputs": [
    {
     "data": {
      "text/plain": [
       "Gauss added the first 100 numbers and got 5050"
      ]
     },
     "execution_count": 13,
     "metadata": {},
     "output_type": "execute_result"
    }
   ],
   "source": [
    "import (\n",
    "    \"fmt\"\n",
    "    \"regexp\"\n",
    "    \"github.com/logic-building/functional-go/fp\"\n",
    ")\n",
    "const (\n",
    "    start = 1\n",
    "    stop = 100\n",
    ")\n",
    "func main() {\n",
    "    re := regexp.MustCompile(`\\d{3}`)\n",
    "    func add(x int, y int) int { return x + y }\n",
    "    numbers := numberRange(1, 100)\n",
    "    result := fp.ReduceInt(add, numbers, 0)\n",
    "\n",
    "    message := fmt.Sprintf(\"The sum of the integers, %d to %d is %d\", start, stop, result)\n",
    "    count := re.FindString(message)\n",
    "    answer := message[len(message) - 4:len(message)]\n",
    "\n",
    "    fmt.Printf(\"Gauss added the first %s numbers and got %s\", count, answer)\n",
    "}\n"
   ]
  }
 ],
 "metadata": {
  "kernelspec": {
   "display_name": "Go",
   "language": "go",
   "name": "gophernotes"
  },
  "language_info": {
   "codemirror_mode": "",
   "file_extension": ".go",
   "mimetype": "",
   "name": "go",
   "nbconvert_exporter": "",
   "pygments_lexer": "",
   "version": "go1.16.5"
  }
 },
 "nbformat": 4,
 "nbformat_minor": 5
}
