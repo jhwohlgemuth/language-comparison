{
 "cells": [
  {
   "cell_type": "markdown",
   "id": "d6f61213",
   "metadata": {},
   "source": [
    "Basics\n",
    "------\n",
    "\n",
    "- [x] [String interpolation](https://hexdocs.pm/elixir/1.12/String.html)\n",
    "- [x] [Number range](https://elixir-lang.readthedocs.io/en/new-guides/ref/master/elixir/Range/?highlight=range)\n",
    "- [x] [Lambda functions](https://hexdocs.pm/elixir/1.12/Function.html)\n",
    "- [x] [Regular expressions](https://hexdocs.pm/elixir/Regex.html)\n",
    "- [x] [Substrings](https://elixir-lang.readthedocs.io/en/new-guides/ref/master/elixir/String/#String.slice/2)"
   ]
  },
  {
   "cell_type": "code",
   "execution_count": 21,
   "id": "b6ab5e26",
   "metadata": {},
   "outputs": [
    {
     "ename": "ArgumentError",
     "evalue": "1",
     "output_type": "error",
     "traceback": [
      "** (ArgumentError) \"cannot invoke @/1 outside module\""
     ]
    }
   ],
   "source": [
    "#\n",
    "# Intentionally left blank\n",
    "#\n",
    "re = ~r/[0-9]{3}/\n",
    "start = 1\n",
    "stop = 100\n",
    "add = fn a, b -> a + b end # &(&1 + &2)\n",
    "numbers = 1..100\n",
    "result = Enum.reduce(numbers, add)\n",
    "\n",
    "message = \"The sum of the integers, #{start} to #{stop}, is #{result}\"\n",
    "count = Regex.run(re, message)\n",
    "answer = String.slice(message, (String.length(message) - 4)..(String.length(message)))\n",
    "\n",
    "\"Gauss added the first #{count} numbers and got #{answer}\"\n"
   ]
  },
  {
   "cell_type": "markdown",
   "id": "d3de8d8e",
   "metadata": {},
   "source": [
    "### Embedded Elixir Templates ([docs](https://hexdocs.pm/eex/EEx.html))"
   ]
  },
  {
   "cell_type": "code",
   "execution_count": 12,
   "id": "473adae0",
   "metadata": {},
   "outputs": [
    {
     "data": {
      "text/plain": [
       "\"foo baz\""
      ]
     },
     "execution_count": 12,
     "metadata": {},
     "output_type": "execute_result"
    }
   ],
   "source": [
    "EEx.eval_string(\"foo <%= bar %>\", bar: \"baz\")"
   ]
  },
  {
   "cell_type": "markdown",
   "id": "71fcab02",
   "metadata": {},
   "source": [
    "### Sigils ([docs](https://hexdocs.pm/elixir/Kernel.html#sigil_C/2))"
   ]
  },
  {
   "cell_type": "code",
   "execution_count": 15,
   "id": "e6b77553",
   "metadata": {},
   "outputs": [
    {
     "data": {
      "text/plain": [
       "[\"foo\", \"\\#{bar}\", \"baz\"]"
      ]
     },
     "execution_count": 15,
     "metadata": {},
     "output_type": "execute_result"
    }
   ],
   "source": [
    "~W(foo #{bar} baz)"
   ]
  },
  {
   "cell_type": "code",
   "execution_count": 17,
   "id": "e81089f8",
   "metadata": {},
   "outputs": [
    {
     "data": {
      "text/plain": [
       "\"foo \\#{bar} baz\""
      ]
     },
     "execution_count": 17,
     "metadata": {},
     "output_type": "execute_result"
    }
   ],
   "source": [
    "~S(foo #{bar} baz)"
   ]
  }
 ],
 "metadata": {
  "kernelspec": {
   "display_name": "Elixir",
   "language": "Elixir",
   "name": "ielixir"
  },
  "language_info": {
   "codemirror_mode": "elixir",
   "file_extension": "ex",
   "mimetype": "text/x-elixir",
   "name": "elixir",
   "nbconvert_exporter": "",
   "pygments_lexer": "elixir",
   "version": "1.12.3"
  }
 },
 "nbformat": 4,
 "nbformat_minor": 5
}
