{
 "cells": [
  {
   "cell_type": "markdown",
   "id": "441d7367",
   "metadata": {},
   "source": [
    "Basics\n",
    "------\n",
    "\n",
    "- [x] [String interpolation](https://www.lua.org/manual/5.4/manual.html#pdf-string.format)\n",
    "- [ ] [Number range]() // no built-in range capability\n",
    "- [x] [Lambda functions]()\n",
    "- [x] [~~Regular expressions~~ Patterns](https://www.lua.org/manual/5.4/manual.html#6.4.1)\n",
    "- [x] [Substrings](https://www.lua.org/manual/5.4/manual.html#pdf-string.sub)\n",
    "- [ ] [Higher functions (e.g. `reduce`)]() // no built-in higher-order functions like reduce"
   ]
  },
  {
   "cell_type": "markdown",
   "id": "38ebbe46",
   "metadata": {},
   "source": [
    "#### Lua does not have built-in range or reduce functions"
   ]
  },
  {
   "cell_type": "code",
   "execution_count": 55,
   "id": "bc0682c3",
   "metadata": {},
   "outputs": [],
   "source": [
    "function range(start, stop)\n",
    "    local r = {}\n",
    "    for i = start, stop do\n",
    "        table.insert(r, i)\n",
    "    end\n",
    "    return r\n",
    "end\n",
    "function reduce(list, initial, callback)\n",
    "    local reduce = initial\n",
    "    for i,v in ipairs(list) do\n",
    "        reduce = callback(reduce, v, i)\n",
    "    end\n",
    "    return reduce\n",
    "end"
   ]
  },
  {
   "cell_type": "code",
   "execution_count": 56,
   "id": "3f550efb",
   "metadata": {},
   "outputs": [
    {
     "name": "stdout",
     "output_type": "stream",
     "text": [
      "Gauss added the first 100 numbers and got 5050 \n"
     ]
    }
   ],
   "source": [
    "--\n",
    "-- Intentionally left blank\n",
    "--\n",
    "pattern = \"%d%d%d\"\n",
    "start = 1\n",
    "stop = 100\n",
    "add = function(a, b) return a + b end\n",
    "numbers = range(start, stop)\n",
    "result = reduce(numbers, 0, add)\n",
    "\n",
    "message = string.format(\"The sum of the integers, %d to %d, is %d\", start, stop, result)\n",
    "count = message:match(pattern)\n",
    "answer = message:sub(string.len(message) - 3, string.len(message))\n",
    "\n",
    "print (string.format(\"Gauss added the first %s numbers and got %s\", count, answer))\n"
   ]
  }
 ],
 "metadata": {
  "kernelspec": {
   "display_name": "Lua  (XLua)",
   "language": "lua",
   "name": "xlua"
  },
  "language_info": {
   "file_extension": ".lua",
   "mimetype": "text/x-luasrc",
   "name": "lua",
   "version": "14.0.0"
  }
 },
 "nbformat": 4,
 "nbformat_minor": 5
}
